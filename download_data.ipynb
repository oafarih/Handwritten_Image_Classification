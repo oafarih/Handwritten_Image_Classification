{
 "cells": [
  {
   "cell_type": "markdown",
   "metadata": {},
   "source": [
    "# Hand written digits 0-9 Dataset\n",
    "\n",
    "https://www.kaggle.com/datasets/olafkrastovski/handwritten-digits-0-9"
   ]
  },
  {
   "cell_type": "code",
   "execution_count": 68,
   "metadata": {},
   "outputs": [],
   "source": [
    "import pandas as pd\n",
    "from PIL import Image\n",
    "import opendatasets as od\n",
    "import os"
   ]
  },
  {
   "cell_type": "code",
   "execution_count": 45,
   "metadata": {},
   "outputs": [
    {
     "name": "stdout",
     "output_type": "stream",
     "text": [
      "Please provide your Kaggle credentials to download this dataset. Learn more: http://bit.ly/kaggle-creds\n",
      "Your Kaggle username:Your Kaggle Key:Dataset URL: https://www.kaggle.com/datasets/olafkrastovski/handwritten-digits-0-9\n",
      "Downloading handwritten-digits-0-9.zip to ./handwritten-digits-0-9\n"
     ]
    },
    {
     "name": "stderr",
     "output_type": "stream",
     "text": [
      "100%|██████████| 66.7M/66.7M [00:06<00:00, 11.0MB/s]\n"
     ]
    },
    {
     "name": "stdout",
     "output_type": "stream",
     "text": [
      "\n"
     ]
    }
   ],
   "source": [
    "data_url = 'https://www.kaggle.com/datasets/olafkrastovski/handwritten-digits-0-9'\n",
    "download = False\n",
    "if download:\n",
    "    od.download(data_url)"
   ]
  },
  {
   "cell_type": "code",
   "execution_count": 65,
   "metadata": {},
   "outputs": [],
   "source": [
    "downloaded_folder = data_url.split('/')[-1]\n",
    "downloaded_numbers = os.listdir(downloaded_folder)\n",
    "downloaded_numbers.sort()"
   ]
  },
  {
   "cell_type": "code",
   "execution_count": 73,
   "metadata": {},
   "outputs": [],
   "source": [
    "folders = [\"train\", \"valid\", \"test\"]\n",
    "os.makedirs(\"data_handwritten_digits/train\", exist_ok=True)\n",
    "os.makedirs(\"data_handwritten_digits/valid\", exist_ok=True)\n",
    "os.makedirs(\"data_handwritten_digits/test\", exist_ok=True)\n",
    "\n",
    "train_files, valid_files, test_files = [], [], []\n",
    "for number in downloaded_numbers:\n",
    "    files = os.listdir(downloaded_folder+f'/{number}')\n",
    "    n_train = int(0.8*len(files))\n",
    "    n_valid = int(0.1*len(files))\n",
    "\n",
    "    train_files += files[:n_train]\n",
    "    valid_files += files[n_train:n_train+n_valid]\n",
    "    test_files += files[n_train+n_valid:]\n",
    "\n",
    "file_labels = {'Zero': 0, 'One': 1, 'Two': 2, 'Three': 3, 'Four': 4, 'Five': 5, 'Six': 6, 'Seven': 7, 'Eight': 8, 'Nine': 9}\n",
    "for folder, files in zip(folders, [train_files, valid_files, test_files]):\n",
    "    labels = []\n",
    "    for file in files:\n",
    "        label_name = file.split('_')[0]\n",
    "        label = file_labels[label_name]\n",
    "\n",
    "        img = Image.open(downloaded_folder+f'/{label}/{file}')\n",
    "        img.save(f'data_handwritten_digits/{folder}/{file}')\n",
    "        labels.append([file, label])\n",
    "    \n",
    "    df = pd.DataFrame(labels, columns=['filename', 'label'])\n",
    "    df.to_csv(f'data_handwritten_digits/{folder}_labels.csv', index=False)"
   ]
  }
 ],
 "metadata": {
  "kernelspec": {
   "display_name": "torch",
   "language": "python",
   "name": "python3"
  },
  "language_info": {
   "codemirror_mode": {
    "name": "ipython",
    "version": 3
   },
   "file_extension": ".py",
   "mimetype": "text/x-python",
   "name": "python",
   "nbconvert_exporter": "python",
   "pygments_lexer": "ipython3",
   "version": "3.11.9"
  }
 },
 "nbformat": 4,
 "nbformat_minor": 2
}
